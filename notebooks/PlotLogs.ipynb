{
 "cells": [
  {
   "cell_type": "code",
   "execution_count": null,
   "metadata": {},
   "outputs": [],
   "source": [
    "import glob\n",
    "import re\n",
    "import pandas as pd\n",
    "import matplotlib.pyplot as plt"
   ]
  },
  {
   "cell_type": "code",
   "execution_count": null,
   "metadata": {},
   "outputs": [],
   "source": [
    "results = {}\n",
    "\n",
    "for name in [x.replace(\"log/\", \"\") for x in glob.glob(\"log/*\")]:\n",
    "    last_epoch = 0\n",
    "    results[name] = []\n",
    "    output_files = sorted(glob.glob(\"log/\" + name + \"/1*_output.txt\"))\n",
    "    for file in output_files:\n",
    "        with open(file, \"r\") as f:\n",
    "            log = f.read()\n",
    "            parsed = re.findall(r\"(Train|Eval|Test), epoch: (?P<epoch>\\d)\\nAmount pixel truth aneurym: (?P<truth>\\d*)\\nAmount pixel predicted aneurym: (?P<predicted>\\d*)\\nDifference: (?P<difference>[-]*\\d*)\\nLoss: (?P<loss>\\d*\\.[\\de-]*)\", log)\n",
    "            parsed = [{\"type\": x[0].lower(), \"epoch\": int(x[1]) + last_epoch, \"loss\": float(x[5]), \"error\": int(x[4])/int(x[2])} for x in parsed]\n",
    "            \n",
    "            results[name] += parsed\n",
    "            last_epoch = last_epoch + parsed[-1][\"epoch\"] + 1\n",
    "            \n",
    "tidy_results = []\n",
    "for k, v in results.items():\n",
    "    for item in v:\n",
    "        x = {\"testrun\": k}\n",
    "        x.update(item)\n",
    "        tidy_results.append(x)\n",
    "\n",
    "df = pd.DataFrame(tidy_results)\n",
    "l = df.pivot(index=(\"testrun\", \"epoch\"), columns=\"type\", values=\"loss\")\n",
    "l = l.add_prefix(\"loss_\").rename_axis(None, axis=1).reset_index()\n",
    "r = df.pivot(index=(\"testrun\", \"epoch\"), columns=\"type\", values=\"error\")\n",
    "r = r.add_prefix(\"error_\").rename_axis(None, axis=1).reset_index()\n",
    "\n",
    "df = pd.merge(l, r, on=(\"testrun\", \"epoch\"))\n",
    "df.head()"
   ]
  },
  {
   "cell_type": "code",
   "execution_count": null,
   "metadata": {
    "scrolled": true
   },
   "outputs": [],
   "source": [
    "value = 'loss'\n",
    "\n",
    "grouped = df[df['testrun'].str.startswith('lr')].groupby('testrun')\n",
    "fig, axs = plt.subplots(figsize=(12,7), \n",
    "                        nrows=2, ncols=3,\n",
    "                        gridspec_kw=dict(hspace=.5, wspace=.2))\n",
    "\n",
    "\n",
    "axes = axs.flatten()\n",
    "\n",
    "for i, (title, group) in enumerate(grouped):\n",
    "    axes[i].plot(group[\"epoch\"], group[value + \"_train\"])\n",
    "    axes[i].plot(group[\"epoch\"], group[value + \"_eval\"])\n",
    "    axes[i].set_title(title)\n",
    "\n",
    "fig.text(0.5, 0.04, 'Epochs', ha='center', fontsize=15)\n",
    "fig.text(0.04, 0.5, 'Loss', va='center', fontsize=15, rotation='vertical')\n",
    "\n",
    "fig.legend([\"Training \" + value, \"Eval \" + value], loc='upper center', shadow=True, fontsize=13, bbox_to_anchor=(0.5, 1), ncol=2)\n",
    " \n",
    "plt.savefig(\"results.png\", transparent=False, facecolor=\"w\")"
   ]
  }
 ],
 "metadata": {
  "kernelspec": {
   "display_name": "Python 3",
   "language": "python",
   "name": "python3"
  },
  "language_info": {
   "codemirror_mode": {
    "name": "ipython",
    "version": 3
   },
   "file_extension": ".py",
   "mimetype": "text/x-python",
   "name": "python",
   "nbconvert_exporter": "python",
   "pygments_lexer": "ipython3",
   "version": "3.8.5"
  }
 },
 "nbformat": 4,
 "nbformat_minor": 4
}
